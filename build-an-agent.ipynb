{
 "cells": [
  {
   "cell_type": "code",
   "execution_count": 19,
   "metadata": {},
   "outputs": [],
   "source": [
    "from langchain_openai import ChatOpenAI\n",
    "from langgraph.checkpoint.memory import MemorySaver\n",
    "from langchain_community.tools.tavily_search import TavilySearchResults\n",
    "from langgraph.prebuilt import create_react_agent\n",
    "from langchain_core.messages import HumanMessage\n",
    "\n",
    "memory = MemorySaver()\n",
    "model = ChatOpenAI(model=\"gpt-4o-mini\")\n",
    "search = TavilySearchResults(max_results=2, tavily_api_key=\"key\")\n",
    "\n",
    "tools = [search]\n",
    "\n",
    "agent_executor = create_react_agent(model, tools, checkpointer=memory)"
   ]
  },
  {
   "cell_type": "code",
   "execution_count": null,
   "metadata": {},
   "outputs": [],
   "source": [
    "pip install langchain-community\n"
   ]
  },
  {
   "cell_type": "code",
   "execution_count": 20,
   "metadata": {},
   "outputs": [
    {
     "name": "stdout",
     "output_type": "stream",
     "text": [
      "================================\u001b[1m Human Message \u001b[0m=================================\n",
      "\n",
      "hi im david and i live in San Hose!\n",
      "==================================\u001b[1m Ai Message \u001b[0m==================================\n",
      "\n",
      "Hi David! It's great to meet you. How's the weather in San Jose today? Or is there something specific you'd like to chat about?\n"
     ]
    }
   ],
   "source": [
    "config = {\"configurable\": {\"thread_id\": \"abc123\"}}\n",
    "\n",
    "for step in agent_executor.stream(\n",
    "    {\n",
    "        \"messages\": [HumanMessage(content=\"hi im david and i live in San Hose!\")]\n",
    "    },\n",
    "    config,\n",
    "    stream_mode=\"values\",\n",
    "):\n",
    "    step[\"messages\"][-1].pretty_print()"
   ]
  },
  {
   "cell_type": "code",
   "execution_count": 22,
   "metadata": {},
   "outputs": [
    {
     "name": "stdout",
     "output_type": "stream",
     "text": [
      "================================\u001b[1m Human Message \u001b[0m=================================\n",
      "\n",
      "whats the weather where i live\n",
      "==================================\u001b[1m Ai Message \u001b[0m==================================\n",
      "Tool Calls:\n",
      "  tavily_search_results_json (call_IT3pWYR52OLVBRDYgZuSFBgh)\n",
      " Call ID: call_IT3pWYR52OLVBRDYgZuSFBgh\n",
      "  Args:\n",
      "    query: current weather San Jose\n",
      "=================================\u001b[1m Tool Message \u001b[0m=================================\n",
      "Name: tavily_search_results_json\n",
      "\n",
      "[{\"title\": \"Friday, May 23, 2025. San Jose, CA - Weather Forecast\", \"url\": \"https://weathershogun.com/weather/usa/ca/san-jose/481/may/2025-05-23\", \"content\": \"San Jose, California Weather: Friday, May 23, 2025. Cloudy weather, overcast skies with clouds. Day 70°. Night 52°. Precipitation 1 %.\", \"score\": 0.9464435}, {\"title\": \"May 2025 Weather History in San Jose California, United States\", \"url\": \"https://weatherspark.com/h/m/1098/2025/5/Historical-Weather-in-May-2025-in-San-Jose-California-United-States\", \"content\": \"Latest Report — 5:53 AM ; Temp. 52.0°F ; Wind. 3.5 mph ; Cloud Cover. Partly Cloudy 8,000 ft\", \"score\": 0.9055316}]\n",
      "==================================\u001b[1m Ai Message \u001b[0m==================================\n",
      "\n",
      "Currently, in San Jose, the weather is partly cloudy with a temperature around 52°F (approximately 11°C). There's a light wind at about 3.5 mph.\n",
      "\n",
      "If you're looking for more detailed or specific information, feel free to ask!\n"
     ]
    }
   ],
   "source": [
    "for step in agent_executor.stream(\n",
    "    {\n",
    "        \"messages\": [HumanMessage(content=\"whats the weather where i live\")]\n",
    "    },\n",
    "    config,\n",
    "    stream_mode=\"values\",\n",
    "):\n",
    "    step[\"messages\"][-1].pretty_print()"
   ]
  }
 ],
 "metadata": {
  "kernelspec": {
   "display_name": "venv",
   "language": "python",
   "name": "python3"
  },
  "language_info": {
   "codemirror_mode": {
    "name": "ipython",
    "version": 3
   },
   "file_extension": ".py",
   "mimetype": "text/x-python",
   "name": "python",
   "nbconvert_exporter": "python",
   "pygments_lexer": "ipython3",
   "version": "3.13.3"
  }
 },
 "nbformat": 4,
 "nbformat_minor": 2
}
